{
  "nbformat": 4,
  "nbformat_minor": 0,
  "metadata": {
    "colab": {
      "name": "Regressions_in_TF.ipynb",
      "provenance": [],
      "collapsed_sections": [],
      "toc_visible": true,
      "authorship_tag": "ABX9TyP6UqEPiirnYA4ACajWsySF",
      "include_colab_link": true
    },
    "kernelspec": {
      "name": "python3",
      "display_name": "Python 3"
    },
    "language_info": {
      "name": "python"
    }
  },
  "cells": [
    {
      "cell_type": "markdown",
      "metadata": {
        "id": "view-in-github",
        "colab_type": "text"
      },
      "source": [
        "<a href=\"https://colab.research.google.com/github/cavs1010/Regression-in-TF/blob/main/Regressions_in_TF.ipynb\" target=\"_parent\"><img src=\"https://colab.research.google.com/assets/colab-badge.svg\" alt=\"Open In Colab\"/></a>"
      ]
    },
    {
      "cell_type": "markdown",
      "metadata": {
        "id": "T16E2Z5sFlwe"
      },
      "source": [
        "# 🚑Insurance model"
      ]
    },
    {
      "cell_type": "markdown",
      "metadata": {
        "id": "xhYrsOFgf9At"
      },
      "source": [
        "## 📞 Imports"
      ]
    },
    {
      "cell_type": "code",
      "metadata": {
        "id": "LD72bzk7FXTO"
      },
      "source": [
        "# Import the required libraries\n",
        "import tensorflow as tf\n",
        "from tensorflow.keras.utils import plot_model\n",
        "import pandas as pd\n",
        "import matplotlib.pyplot as plt\n",
        "from sklearn.model_selection import train_test_split\n",
        "from sklearn.compose import make_column_transformer\n",
        "from sklearn.preprocessing import MinMaxScaler, OneHotEncoder\n",
        "import numpy as np\n",
        "import seaborn as sns\n",
        "import math\n",
        "\n",
        "# Read in the insurance dataset\n",
        "insurance = pd.read_csv('https://raw.githubusercontent.com/stedy/Machine-Learning-with-R-datasets/master/insurance.csv')"
      ],
      "execution_count": 1,
      "outputs": []
    },
    {
      "cell_type": "markdown",
      "metadata": {
        "id": "PrY4-hROFe9K"
      },
      "source": [
        "## 🛀Preprocessing\n",
        "Preprocessing steps:\n",
        "1. One hot encoding.\n",
        "2. Normalization.\n",
        "3. Train and test set split"
      ]
    },
    {
      "cell_type": "code",
      "metadata": {
        "colab": {
          "base_uri": "https://localhost:8080/",
          "height": 419
        },
        "id": "yaTBtODdF1k7",
        "outputId": "d2a4fec8-6c29-4874-e565-db8198ebc260"
      },
      "source": [
        "# Let's see the dataframe\n",
        "insurance"
      ],
      "execution_count": null,
      "outputs": [
        {
          "output_type": "execute_result",
          "data": {
            "text/html": [
              "<div>\n",
              "<style scoped>\n",
              "    .dataframe tbody tr th:only-of-type {\n",
              "        vertical-align: middle;\n",
              "    }\n",
              "\n",
              "    .dataframe tbody tr th {\n",
              "        vertical-align: top;\n",
              "    }\n",
              "\n",
              "    .dataframe thead th {\n",
              "        text-align: right;\n",
              "    }\n",
              "</style>\n",
              "<table border=\"1\" class=\"dataframe\">\n",
              "  <thead>\n",
              "    <tr style=\"text-align: right;\">\n",
              "      <th></th>\n",
              "      <th>age</th>\n",
              "      <th>sex</th>\n",
              "      <th>bmi</th>\n",
              "      <th>children</th>\n",
              "      <th>smoker</th>\n",
              "      <th>region</th>\n",
              "      <th>charges</th>\n",
              "    </tr>\n",
              "  </thead>\n",
              "  <tbody>\n",
              "    <tr>\n",
              "      <th>0</th>\n",
              "      <td>19</td>\n",
              "      <td>female</td>\n",
              "      <td>27.900</td>\n",
              "      <td>0</td>\n",
              "      <td>yes</td>\n",
              "      <td>southwest</td>\n",
              "      <td>16884.92400</td>\n",
              "    </tr>\n",
              "    <tr>\n",
              "      <th>1</th>\n",
              "      <td>18</td>\n",
              "      <td>male</td>\n",
              "      <td>33.770</td>\n",
              "      <td>1</td>\n",
              "      <td>no</td>\n",
              "      <td>southeast</td>\n",
              "      <td>1725.55230</td>\n",
              "    </tr>\n",
              "    <tr>\n",
              "      <th>2</th>\n",
              "      <td>28</td>\n",
              "      <td>male</td>\n",
              "      <td>33.000</td>\n",
              "      <td>3</td>\n",
              "      <td>no</td>\n",
              "      <td>southeast</td>\n",
              "      <td>4449.46200</td>\n",
              "    </tr>\n",
              "    <tr>\n",
              "      <th>3</th>\n",
              "      <td>33</td>\n",
              "      <td>male</td>\n",
              "      <td>22.705</td>\n",
              "      <td>0</td>\n",
              "      <td>no</td>\n",
              "      <td>northwest</td>\n",
              "      <td>21984.47061</td>\n",
              "    </tr>\n",
              "    <tr>\n",
              "      <th>4</th>\n",
              "      <td>32</td>\n",
              "      <td>male</td>\n",
              "      <td>28.880</td>\n",
              "      <td>0</td>\n",
              "      <td>no</td>\n",
              "      <td>northwest</td>\n",
              "      <td>3866.85520</td>\n",
              "    </tr>\n",
              "    <tr>\n",
              "      <th>...</th>\n",
              "      <td>...</td>\n",
              "      <td>...</td>\n",
              "      <td>...</td>\n",
              "      <td>...</td>\n",
              "      <td>...</td>\n",
              "      <td>...</td>\n",
              "      <td>...</td>\n",
              "    </tr>\n",
              "    <tr>\n",
              "      <th>1333</th>\n",
              "      <td>50</td>\n",
              "      <td>male</td>\n",
              "      <td>30.970</td>\n",
              "      <td>3</td>\n",
              "      <td>no</td>\n",
              "      <td>northwest</td>\n",
              "      <td>10600.54830</td>\n",
              "    </tr>\n",
              "    <tr>\n",
              "      <th>1334</th>\n",
              "      <td>18</td>\n",
              "      <td>female</td>\n",
              "      <td>31.920</td>\n",
              "      <td>0</td>\n",
              "      <td>no</td>\n",
              "      <td>northeast</td>\n",
              "      <td>2205.98080</td>\n",
              "    </tr>\n",
              "    <tr>\n",
              "      <th>1335</th>\n",
              "      <td>18</td>\n",
              "      <td>female</td>\n",
              "      <td>36.850</td>\n",
              "      <td>0</td>\n",
              "      <td>no</td>\n",
              "      <td>southeast</td>\n",
              "      <td>1629.83350</td>\n",
              "    </tr>\n",
              "    <tr>\n",
              "      <th>1336</th>\n",
              "      <td>21</td>\n",
              "      <td>female</td>\n",
              "      <td>25.800</td>\n",
              "      <td>0</td>\n",
              "      <td>no</td>\n",
              "      <td>southwest</td>\n",
              "      <td>2007.94500</td>\n",
              "    </tr>\n",
              "    <tr>\n",
              "      <th>1337</th>\n",
              "      <td>61</td>\n",
              "      <td>female</td>\n",
              "      <td>29.070</td>\n",
              "      <td>0</td>\n",
              "      <td>yes</td>\n",
              "      <td>northwest</td>\n",
              "      <td>29141.36030</td>\n",
              "    </tr>\n",
              "  </tbody>\n",
              "</table>\n",
              "<p>1338 rows × 7 columns</p>\n",
              "</div>"
            ],
            "text/plain": [
              "      age     sex     bmi  children smoker     region      charges\n",
              "0      19  female  27.900         0    yes  southwest  16884.92400\n",
              "1      18    male  33.770         1     no  southeast   1725.55230\n",
              "2      28    male  33.000         3     no  southeast   4449.46200\n",
              "3      33    male  22.705         0     no  northwest  21984.47061\n",
              "4      32    male  28.880         0     no  northwest   3866.85520\n",
              "...   ...     ...     ...       ...    ...        ...          ...\n",
              "1333   50    male  30.970         3     no  northwest  10600.54830\n",
              "1334   18  female  31.920         0     no  northeast   2205.98080\n",
              "1335   18  female  36.850         0     no  southeast   1629.83350\n",
              "1336   21  female  25.800         0     no  southwest   2007.94500\n",
              "1337   61  female  29.070         0    yes  northwest  29141.36030\n",
              "\n",
              "[1338 rows x 7 columns]"
            ]
          },
          "metadata": {},
          "execution_count": 2
        }
      ]
    },
    {
      "cell_type": "code",
      "metadata": {
        "colab": {
          "base_uri": "https://localhost:8080/"
        },
        "id": "L_M8UkiHF-Bp",
        "outputId": "83d4fe23-3315-4a8e-b4a3-c28f5d9a800b"
      },
      "source": [
        "# Variable types\n",
        "insurance.info()"
      ],
      "execution_count": null,
      "outputs": [
        {
          "output_type": "stream",
          "name": "stdout",
          "text": [
            "<class 'pandas.core.frame.DataFrame'>\n",
            "RangeIndex: 1338 entries, 0 to 1337\n",
            "Data columns (total 7 columns):\n",
            " #   Column    Non-Null Count  Dtype  \n",
            "---  ------    --------------  -----  \n",
            " 0   age       1338 non-null   int64  \n",
            " 1   sex       1338 non-null   object \n",
            " 2   bmi       1338 non-null   float64\n",
            " 3   children  1338 non-null   int64  \n",
            " 4   smoker    1338 non-null   object \n",
            " 5   region    1338 non-null   object \n",
            " 6   charges   1338 non-null   float64\n",
            "dtypes: float64(2), int64(2), object(3)\n",
            "memory usage: 73.3+ KB\n"
          ]
        }
      ]
    },
    {
      "cell_type": "code",
      "metadata": {
        "id": "9miFhpeTgbpH"
      },
      "source": [
        "# Create a column Transformer\n",
        "ct = make_column_transformer(\n",
        "    (MinMaxScaler(), ['age', 'bmi', 'children']), # Scale these numerical values\n",
        "    (OneHotEncoder(handle_unknown='ignore'),['sex', 'smoker', 'region'])\n",
        ")\n",
        "\n",
        "# Create X and y values\n",
        "X = insurance.drop('charges', axis =1)\n",
        "y = insurance['charges']\n",
        "\n",
        "#  Build train and test sets\n",
        "X_train, X_test, y_train, y_test = train_test_split(X, y, test_size=0.2, random_state=42)\n",
        "\n",
        "# Fit the column transformer to our training data\n",
        "ct.fit(X_train)\n",
        "\n",
        "# Transform training and test set\n",
        "X_train_normal = ct.transform(X_train)\n",
        "X_test_normal = ct.transform(X_test)"
      ],
      "execution_count": null,
      "outputs": []
    },
    {
      "cell_type": "markdown",
      "metadata": {
        "id": "WfZz-plhGUJW"
      },
      "source": [
        "## 🦾Model Training\n",
        "Different models will be proposed:\n",
        "* `model_1` -  basic neural network.\n",
        "* `model_2` - change number of neurons\n",
        "* `model_3` - change the optimizer of `model_1`\n",
        "* `model_4` - Add epochs to the `model_1`\n",
        "* `model_5` - Add a hidden layer and change the optimizer of `model_1`\n",
        "* `model_6` - Increase epochs of `model_5`\n",
        "* `model_7` - Increase epochs of `model_6`"
      ]
    },
    {
      "cell_type": "markdown",
      "metadata": {
        "id": "JJ-QzaAZGa6_"
      },
      "source": [
        "### Model 1"
      ]
    },
    {
      "cell_type": "code",
      "metadata": {
        "id": "_mLyDvXGHcOn"
      },
      "source": [
        "# Build a neural network\n",
        "tf.random.set_seed(42)\n",
        "\n",
        "# 1. Create the model\n",
        "insurance_model_1 = tf.keras.Sequential([\n",
        "     tf.keras.layers.Dense(10),\n",
        "     tf.keras.layers.Dense(1)                                 \n",
        "])\n",
        "\n",
        "# 2. Compile the model\n",
        "insurance_model_1.compile(loss=tf.keras.losses.mae,\n",
        "                        optimizer=tf.keras.optimizers.SGD(),\n",
        "                        metrics=['mae'])\n",
        "\n",
        "# 3. Fit the model\n",
        "history_1 = insurance_model_1.fit(X_train_normal, y_train, epochs=100, verbose = 0)"
      ],
      "execution_count": null,
      "outputs": []
    },
    {
      "cell_type": "code",
      "metadata": {
        "colab": {
          "base_uri": "https://localhost:8080/"
        },
        "id": "REB9wXSAHjHr",
        "outputId": "f5b1931e-cde3-422a-c61c-1fe95c1c2393"
      },
      "source": [
        "# Evaluate the large model\n",
        "mae_model_1 = insurance_model_1.evaluate(X_test_normal, y_test)[1]\n",
        "mae_model_1"
      ],
      "execution_count": null,
      "outputs": [
        {
          "output_type": "stream",
          "name": "stdout",
          "text": [
            "9/9 [==============================] - 0s 2ms/step - loss: 3170.0486 - mae: 3170.0486\n"
          ]
        },
        {
          "output_type": "execute_result",
          "data": {
            "text/plain": [
              "3170.048583984375"
            ]
          },
          "metadata": {},
          "execution_count": 7
        }
      ]
    },
    {
      "cell_type": "markdown",
      "metadata": {
        "id": "35CIio-eHzDN"
      },
      "source": [
        "### Model 2"
      ]
    },
    {
      "cell_type": "code",
      "metadata": {
        "id": "wPDM-FrcH-uU"
      },
      "source": [
        "# Build a neural network\n",
        "tf.random.set_seed(42)\n",
        "\n",
        "# 1. Create the model\n",
        "insurance_model_2 = tf.keras.Sequential([\n",
        "     tf.keras.layers.Dense(10),\n",
        "     tf.keras.layers.Dense(10),                              \n",
        "])\n",
        "\n",
        "# 2. Compile the model\n",
        "insurance_model_2.compile(loss=tf.keras.losses.mae,\n",
        "                        optimizer=tf.keras.optimizers.SGD(),\n",
        "                        metrics=['mae'])\n",
        "\n",
        "# 3. Fit the model\n",
        "history_2 = insurance_model_2.fit(X_train_normal, y_train, epochs=100, verbose=0)"
      ],
      "execution_count": null,
      "outputs": []
    },
    {
      "cell_type": "code",
      "metadata": {
        "colab": {
          "base_uri": "https://localhost:8080/"
        },
        "id": "JJIAf9g9IHFK",
        "outputId": "0f4347f7-f6db-4de7-cb62-29ae0a51151d"
      },
      "source": [
        "# Evaluate the large model\n",
        "mae_model_2 = insurance_model_2.evaluate(X_test_normal, y_test)[1]\n",
        "mae_model_2"
      ],
      "execution_count": null,
      "outputs": [
        {
          "output_type": "stream",
          "name": "stdout",
          "text": [
            "9/9 [==============================] - 0s 2ms/step - loss: 3450.4182 - mae: 3450.4182\n"
          ]
        },
        {
          "output_type": "execute_result",
          "data": {
            "text/plain": [
              "3450.418212890625"
            ]
          },
          "metadata": {},
          "execution_count": 9
        }
      ]
    },
    {
      "cell_type": "markdown",
      "metadata": {
        "id": "D91ij8lWIPnj"
      },
      "source": [
        "### Model 3"
      ]
    },
    {
      "cell_type": "code",
      "metadata": {
        "id": "QugNaI3SIbJA"
      },
      "source": [
        "# Build a neural network\n",
        "tf.random.set_seed(42)\n",
        "\n",
        "# 1. Create the model\n",
        "insurance_model_3 = tf.keras.Sequential([\n",
        "     tf.keras.layers.Dense(10),\n",
        "     tf.keras.layers.Dense(1),                              \n",
        "])\n",
        "\n",
        "# 2. Compile the model\n",
        "insurance_model_3.compile(loss=tf.keras.losses.mae,\n",
        "                        optimizer=tf.keras.optimizers.Adam(),\n",
        "                        metrics=['mae'])\n",
        "\n",
        "# 3. Fit the model\n",
        "history_3 = insurance_model_3.fit(X_train_normal, y_train, epochs=100, verbose=0)"
      ],
      "execution_count": null,
      "outputs": []
    },
    {
      "cell_type": "code",
      "metadata": {
        "colab": {
          "base_uri": "https://localhost:8080/"
        },
        "id": "r10fGZ2sIsLr",
        "outputId": "b8a93204-6449-439d-a187-5b3dcb67e316"
      },
      "source": [
        "# Evaluate the large model\n",
        "mae_model_3 = insurance_model_3.evaluate(X_test_normal, y_test)[1]\n",
        "mae_model_3"
      ],
      "execution_count": null,
      "outputs": [
        {
          "output_type": "stream",
          "name": "stdout",
          "text": [
            "9/9 [==============================] - 0s 2ms/step - loss: 11767.6777 - mae: 11767.6777\n"
          ]
        },
        {
          "output_type": "execute_result",
          "data": {
            "text/plain": [
              "11767.677734375"
            ]
          },
          "metadata": {},
          "execution_count": 11
        }
      ]
    },
    {
      "cell_type": "markdown",
      "metadata": {
        "id": "n3acuNvGIyhr"
      },
      "source": [
        "### Model 4"
      ]
    },
    {
      "cell_type": "code",
      "metadata": {
        "id": "DERT93_hJBEy"
      },
      "source": [
        "# Build a neural network\n",
        "tf.random.set_seed(42)\n",
        "\n",
        "# 1. Create the model\n",
        "insurance_model_4 = tf.keras.Sequential([\n",
        "     tf.keras.layers.Dense(10),\n",
        "     tf.keras.layers.Dense(1),                              \n",
        "])\n",
        "\n",
        "# 2. Compile the model\n",
        "insurance_model_4.compile(loss=tf.keras.losses.mae,\n",
        "                        optimizer=tf.keras.optimizers.SGD(),\n",
        "                        metrics=['mae'])\n",
        "\n",
        "# 3. Fit the model\n",
        "history_4 = insurance_model_4.fit(X_train_normal, y_train, epochs=200, verbose=0)"
      ],
      "execution_count": null,
      "outputs": []
    },
    {
      "cell_type": "code",
      "metadata": {
        "colab": {
          "base_uri": "https://localhost:8080/"
        },
        "id": "RZE0RhDoJKOu",
        "outputId": "2feb61c9-7d0d-4d20-dcaf-116b81117fab"
      },
      "source": [
        "# Evaluate the large model\n",
        "mae_model_4 = insurance_model_4.evaluate(X_test_normal, y_test)[1]\n",
        "mae_model_4"
      ],
      "execution_count": null,
      "outputs": [
        {
          "output_type": "stream",
          "name": "stdout",
          "text": [
            "9/9 [==============================] - 0s 2ms/step - loss: 3161.6204 - mae: 3161.6204\n"
          ]
        },
        {
          "output_type": "execute_result",
          "data": {
            "text/plain": [
              "3161.620361328125"
            ]
          },
          "metadata": {},
          "execution_count": 13
        }
      ]
    },
    {
      "cell_type": "markdown",
      "metadata": {
        "id": "2VrS5XQyJNNc"
      },
      "source": [
        "### Model 5"
      ]
    },
    {
      "cell_type": "code",
      "metadata": {
        "id": "Zn9QC2ngJa6J"
      },
      "source": [
        "# set random seed\n",
        "tf.random.set_seed(42)\n",
        "\n",
        "#1. Create the model\n",
        "insurance_model_5 = tf.keras.Sequential([\n",
        "    tf.keras.layers.Dense(100),\n",
        "    tf.keras.layers.Dense(10),\n",
        "    tf.keras.layers.Dense(1)\n",
        "])\n",
        "\n",
        "# 2. Compile the model\n",
        "insurance_model_5.compile(loss=tf.keras.losses.mae,\n",
        "                          optimizer= tf.keras.optimizers.Adam(),\n",
        "                          metrics=['mae'])\n",
        "\n",
        "# 3. Fit the model\n",
        "history_5 = insurance_model_5.fit(X_train_normal,y_train, epochs=100, verbose=0)"
      ],
      "execution_count": null,
      "outputs": []
    },
    {
      "cell_type": "code",
      "metadata": {
        "colab": {
          "base_uri": "https://localhost:8080/"
        },
        "id": "AReKSpeZJi04",
        "outputId": "dc51e4f6-f83d-4a55-87de-a0df7a6a3395"
      },
      "source": [
        "# Evaluate the large model\n",
        "mae_model_5 = insurance_model_5.evaluate(X_test_normal, y_test)[1]\n",
        "mae_model_5"
      ],
      "execution_count": null,
      "outputs": [
        {
          "output_type": "stream",
          "name": "stdout",
          "text": [
            "9/9 [==============================] - 0s 2ms/step - loss: 3438.7844 - mae: 3438.7844\n"
          ]
        },
        {
          "output_type": "execute_result",
          "data": {
            "text/plain": [
              "3438.784423828125"
            ]
          },
          "metadata": {},
          "execution_count": 15
        }
      ]
    },
    {
      "cell_type": "markdown",
      "metadata": {
        "id": "S_GUX_YbJmX5"
      },
      "source": [
        "### Model 6"
      ]
    },
    {
      "cell_type": "code",
      "metadata": {
        "id": "cQvNE193Jp5A"
      },
      "source": [
        "# set random seed\n",
        "tf.random.set_seed(42)\n",
        "\n",
        "#1. Create the model\n",
        "insurance_model_6 = tf.keras.Sequential([\n",
        "    tf.keras.layers.Dense(100),\n",
        "    tf.keras.layers.Dense(10),\n",
        "    tf.keras.layers.Dense(1)\n",
        "])\n",
        "\n",
        "# 2. Compile the model\n",
        "insurance_model_6.compile(loss=tf.keras.losses.mae,\n",
        "                          optimizer= tf.keras.optimizers.Adam(),\n",
        "                          metrics=['mae'])\n",
        "\n",
        "# 3. Fit the model\n",
        "history_6 = insurance_model_6.fit(X_train_normal,y_train, epochs=200, verbose=0)"
      ],
      "execution_count": null,
      "outputs": []
    },
    {
      "cell_type": "code",
      "metadata": {
        "colab": {
          "base_uri": "https://localhost:8080/"
        },
        "id": "bBW-bbeAJuSh",
        "outputId": "b38a1f45-77bc-41e0-ea84-75568d0a8be2"
      },
      "source": [
        "# Evaluate the large model\n",
        "mae_model_6 = insurance_model_6.evaluate(X_test_normal, y_test)[1]\n",
        "mae_model_6"
      ],
      "execution_count": null,
      "outputs": [
        {
          "output_type": "stream",
          "name": "stdout",
          "text": [
            "9/9 [==============================] - 0s 2ms/step - loss: 3171.5774 - mae: 3171.5774\n"
          ]
        },
        {
          "output_type": "execute_result",
          "data": {
            "text/plain": [
              "3171.577392578125"
            ]
          },
          "metadata": {},
          "execution_count": 17
        }
      ]
    },
    {
      "cell_type": "markdown",
      "metadata": {
        "id": "ltftpAbRJvNz"
      },
      "source": [
        "### Model 7"
      ]
    },
    {
      "cell_type": "code",
      "metadata": {
        "id": "efq8Q6ubJzPS"
      },
      "source": [
        "# set random seed\n",
        "tf.random.set_seed(42)\n",
        "\n",
        "#1. Create the model\n",
        "insurance_model_7 = tf.keras.Sequential([\n",
        "    tf.keras.layers.Dense(100),\n",
        "    tf.keras.layers.Dense(10),\n",
        "    tf.keras.layers.Dense(1)\n",
        "])\n",
        "\n",
        "# 2. Compile the model\n",
        "insurance_model_7.compile(loss=tf.keras.losses.mae,\n",
        "                          optimizer= tf.keras.optimizers.Adam(),\n",
        "                          metrics=['mae'])\n",
        "\n",
        "# 3. Fit the model\n",
        "history_7 = insurance_model_7.fit(X_train_normal,y_train, epochs=300, verbose=0)"
      ],
      "execution_count": null,
      "outputs": []
    },
    {
      "cell_type": "code",
      "metadata": {
        "colab": {
          "base_uri": "https://localhost:8080/"
        },
        "id": "FzRb7YBKJ_x3",
        "outputId": "8bdfa552-ff44-4cb9-cbdb-ddf6b1ff4656"
      },
      "source": [
        "# Evaluate the large model\n",
        "mae_model_7 = insurance_model_7.evaluate(X_test_normal, y_test)[1]\n",
        "mae_model_7"
      ],
      "execution_count": null,
      "outputs": [
        {
          "output_type": "stream",
          "name": "stdout",
          "text": [
            "9/9 [==============================] - 0s 2ms/step - loss: 3161.5601 - mae: 3161.5601\n"
          ]
        },
        {
          "output_type": "execute_result",
          "data": {
            "text/plain": [
              "3161.56005859375"
            ]
          },
          "metadata": {},
          "execution_count": 19
        }
      ]
    },
    {
      "cell_type": "markdown",
      "metadata": {
        "id": "UuFZtDQFKCox"
      },
      "source": [
        "## 🧐Model Evaluation"
      ]
    },
    {
      "cell_type": "code",
      "metadata": {
        "id": "BFcIJUzRKH7v"
      },
      "source": [
        "model_results = [['model_1', mae_model_1],\n",
        "                 ['model_2', mae_model_2],\n",
        "                 ['model_3', mae_model_3],\n",
        "                 ['model_4', mae_model_4],\n",
        "                 ['model_5', mae_model_5],\n",
        "                 ['model_6', mae_model_6],\n",
        "                 ['model_7', mae_model_7]]\n",
        "model_results = pd.DataFrame(model_results,columns=['model','MAE'])"
      ],
      "execution_count": null,
      "outputs": []
    },
    {
      "cell_type": "code",
      "metadata": {
        "colab": {
          "base_uri": "https://localhost:8080/",
          "height": 266
        },
        "id": "Rcn-rNIoKblD",
        "outputId": "267eb274-7f8a-4962-ead9-addc5717bbe7"
      },
      "source": [
        "model_results"
      ],
      "execution_count": null,
      "outputs": [
        {
          "output_type": "execute_result",
          "data": {
            "text/html": [
              "<div>\n",
              "<style scoped>\n",
              "    .dataframe tbody tr th:only-of-type {\n",
              "        vertical-align: middle;\n",
              "    }\n",
              "\n",
              "    .dataframe tbody tr th {\n",
              "        vertical-align: top;\n",
              "    }\n",
              "\n",
              "    .dataframe thead th {\n",
              "        text-align: right;\n",
              "    }\n",
              "</style>\n",
              "<table border=\"1\" class=\"dataframe\">\n",
              "  <thead>\n",
              "    <tr style=\"text-align: right;\">\n",
              "      <th></th>\n",
              "      <th>model</th>\n",
              "      <th>MAE</th>\n",
              "    </tr>\n",
              "  </thead>\n",
              "  <tbody>\n",
              "    <tr>\n",
              "      <th>0</th>\n",
              "      <td>model_1</td>\n",
              "      <td>3170.048584</td>\n",
              "    </tr>\n",
              "    <tr>\n",
              "      <th>1</th>\n",
              "      <td>model_2</td>\n",
              "      <td>3450.418213</td>\n",
              "    </tr>\n",
              "    <tr>\n",
              "      <th>2</th>\n",
              "      <td>model_3</td>\n",
              "      <td>11767.677734</td>\n",
              "    </tr>\n",
              "    <tr>\n",
              "      <th>3</th>\n",
              "      <td>model_4</td>\n",
              "      <td>3161.620361</td>\n",
              "    </tr>\n",
              "    <tr>\n",
              "      <th>4</th>\n",
              "      <td>model_5</td>\n",
              "      <td>3438.784424</td>\n",
              "    </tr>\n",
              "    <tr>\n",
              "      <th>5</th>\n",
              "      <td>model_6</td>\n",
              "      <td>3171.577393</td>\n",
              "    </tr>\n",
              "    <tr>\n",
              "      <th>6</th>\n",
              "      <td>model_7</td>\n",
              "      <td>3161.560059</td>\n",
              "    </tr>\n",
              "  </tbody>\n",
              "</table>\n",
              "</div>"
            ],
            "text/plain": [
              "     model           MAE\n",
              "0  model_1   3170.048584\n",
              "1  model_2   3450.418213\n",
              "2  model_3  11767.677734\n",
              "3  model_4   3161.620361\n",
              "4  model_5   3438.784424\n",
              "5  model_6   3171.577393\n",
              "6  model_7   3161.560059"
            ]
          },
          "metadata": {},
          "execution_count": 21
        }
      ]
    },
    {
      "cell_type": "code",
      "metadata": {
        "id": "ZczuagKEKc-7"
      },
      "source": [
        "model_results = model_results.sort_values('MAE')"
      ],
      "execution_count": null,
      "outputs": []
    },
    {
      "cell_type": "code",
      "metadata": {
        "colab": {
          "base_uri": "https://localhost:8080/",
          "height": 461
        },
        "id": "LOxPBxCGMGLe",
        "outputId": "07da4331-a87e-467c-fadd-8517da0a93fe"
      },
      "source": [
        "fig, ax = plt.subplots(figsize=(10,7))\n",
        "ax.bar(model_results['model'], model_results['MAE'])\n",
        "ax.set_xticklabels(model_results['model'], rotation=90)\n",
        "ax.set_ylabel('MAE')\n",
        "plt.show()"
      ],
      "execution_count": null,
      "outputs": [
        {
          "output_type": "display_data",
          "data": {
            "image/png": "[encoded data removed]",
            "text/plain": [
              "<Figure size 720x504 with 1 Axes>"
            ]
          },
          "metadata": {
            "needs_background": "light"
          }
        }
      ]
    },
    {
      "cell_type": "markdown",
      "metadata": {
        "id": "wFYcyEVnMs-w"
      },
      "source": [
        "# 🛠 Other Exercices\n",
        "> 1. Create your own regression dataset (or make the one we created in \"Create data to view and fit\" bigger) and build fit a model to it.\n"
      ]
    },
    {
      "cell_type": "code",
      "metadata": {
        "id": "1cOrRjxRhWbL"
      },
      "source": [
        "# Create X, y sould reflect the gaussian distribution\n",
        "X = np.arange(1, 10, 0.02)\n",
        "s = 1\n",
        "a = 1/(s*((2*3.14)**(1/2)))\n",
        "m = 5\n",
        "y = a*(np.exp(((-0.5)*((X-m)**2))/(s**2)))"
      ],
      "execution_count": null,
      "outputs": []
    },
    {
      "cell_type": "code",
      "metadata": {
        "colab": {
          "base_uri": "https://localhost:8080/",
          "height": 497
        },
        "id": "6Q7ms6ZYiBT3",
        "outputId": "e2dab27f-8b51-4236-f22d-bcbaf97c7a1e"
      },
      "source": [
        "# Visualize x vs y\n",
        "plt.figure(figsize=(15,8))\n",
        "ax = sns.scatterplot(x=X, y = y)\n",
        "ax.set_xlabel('X')\n",
        "ax.set_ylabel('y');"
      ],
      "execution_count": null,
      "outputs": [
        {
          "output_type": "display_data",
          "data": {
            "image/png": "[encoded data removed]",
            "text/plain": [
              "<Figure size 1080x576 with 1 Axes>"
            ]
          },
          "metadata": {
            "needs_background": "light"
          }
        }
      ]
    },
    {
      "cell_type": "code",
      "metadata": {
        "id": "_kSdGe1Jiwwl"
      },
      "source": [
        "# Train test split\n",
        "X_train, X_test, y_train, y_test = train_test_split(X, y, test_size=0.2, random_state=11)"
      ],
      "execution_count": null,
      "outputs": []
    },
    {
      "cell_type": "code",
      "metadata": {
        "colab": {
          "base_uri": "https://localhost:8080/",
          "height": 497
        },
        "id": "SsW7uXJKl5vQ",
        "outputId": "9a955894-f1c4-4a87-ff16-957aaa0a5ed4"
      },
      "source": [
        "# Lets Visualize with the model\n",
        "fig, ax = plt.subplots(figsize=(15,8))\n",
        "sns.scatterplot(x=X_train, y = y_train, ax = ax, label='Train set',)\n",
        "sns.scatterplot(x=X_test, y = y_test, ax = ax , label='Test set')\n",
        "ax.set_xlabel('X')\n",
        "ax.set_ylabel('y');"
      ],
      "execution_count": null,
      "outputs": [
        {
          "output_type": "display_data",
          "data": {
            "image/png": "[encoded data removed]",
            "text/plain": [
              "<Figure size 1080x576 with 1 Axes>"
            ]
          },
          "metadata": {
            "needs_background": "light"
          }
        }
      ]
    },
    {
      "cell_type": "code",
      "metadata": {
        "id": "VyAlcVJsmQdO"
      },
      "source": [
        "# Build a neural network\n",
        "tf.random.set_seed(42)\n",
        "\n",
        "# 1. Create the model\n",
        "model = tf.keras.Sequential([\n",
        "     tf.keras.layers.Dense(10),\n",
        "     tf.keras.layers.Dense(1)                                 \n",
        "])\n",
        "\n",
        "# 2. Compile the model\n",
        "model.compile(loss=tf.keras.losses.mae,\n",
        "                        optimizer=tf.keras.optimizers.SGD(),\n",
        "                        metrics=['mae'])\n",
        "\n",
        "# 3. Fit the model\n",
        "history_1 = model.fit(X_train, y_train, epochs=200, verbose = 0)"
      ],
      "execution_count": null,
      "outputs": []
    },
    {
      "cell_type": "code",
      "metadata": {
        "colab": {
          "base_uri": "https://localhost:8080/"
        },
        "id": "8oONL7NooAyn",
        "outputId": "7321b029-045e-4e02-ac6c-40cac887ef42"
      },
      "source": [
        "model.evaluate(X_test,y_test)"
      ],
      "execution_count": null,
      "outputs": [
        {
          "output_type": "stream",
          "name": "stdout",
          "text": [
            "3/3 [==============================] - 0s 3ms/step - loss: 0.1230 - mae: 0.1230\n"
          ]
        },
        {
          "output_type": "execute_result",
          "data": {
            "text/plain": [
              "[0.12301099300384521, 0.12301099300384521]"
            ]
          },
          "metadata": {},
          "execution_count": 19
        }
      ]
    },
    {
      "cell_type": "code",
      "metadata": {
        "id": "0Dg49uwfoPAN"
      },
      "source": [
        "y_pred = model.predict(X_test)\n",
        "y_pred = np.squeeze(y_pred) #Squeeze the array so that it an be evaluated"
      ],
      "execution_count": null,
      "outputs": []
    },
    {
      "cell_type": "code",
      "metadata": {
        "colab": {
          "base_uri": "https://localhost:8080/",
          "height": 497
        },
        "id": "tG7avkEzOJqs",
        "outputId": "5be315e2-4b60-4594-c1d7-beba7be74b1d"
      },
      "source": [
        "# Lets Visualize the model and its predictions\n",
        "fig, ax = plt.subplots(figsize=(15,8))\n",
        "sns.scatterplot(x=X_train, y = y_train, ax = ax, label='Train set',)\n",
        "sns.scatterplot(x=X_test, y = y_test, ax = ax , label='Test set')\n",
        "sns.scatterplot(x=X_test, y = y_pred, ax = ax , label='Predicted values')\n",
        "ax.set_xlabel('X')\n",
        "ax.set_ylabel('y');"
      ],
      "execution_count": null,
      "outputs": [
        {
          "output_type": "display_data",
          "data": {
            "image/png": "[encoded data removed]",
            "text/plain": [
              "<Figure size 1080x576 with 1 Axes>"
            ]
          },
          "metadata": {
            "needs_background": "light"
          }
        }
      ]
    },
    {
      "cell_type": "markdown",
      "metadata": {
        "id": "llZEQUssOU2W"
      },
      "source": [
        "> 2. Try building a neural network with 4 Dense layers and fitting it to your own regression dataset, how does it perform?"
      ]
    },
    {
      "cell_type": "code",
      "metadata": {
        "id": "Hrv56pwKPWgF"
      },
      "source": [
        "# Build a neural network\n",
        "\n",
        "tf.random.set_seed(42)\n",
        "\n",
        "# 1. Create the model\n",
        "model_2 = tf.keras.Sequential([\n",
        "                               tf.keras.layers.Dense(10),\n",
        "                               tf.keras.layers.Dense(10),\n",
        "                               tf.keras.layers.Dense(10),\n",
        "                               tf.keras.layers.Dense(1)\n",
        "])\n",
        "\n",
        "# 2. Compile the model\n",
        "model_2.compile(loss=tf.keras.losses.mae,\n",
        "                optimizer=tf.keras.optimizers.Adam(),\n",
        "                metrics=['mae'])\n",
        "\n",
        "# 3. Fit the model\n",
        "history_2 = model_2.fit(X_train, y_train, epochs=200, verbose=0)"
      ],
      "execution_count": null,
      "outputs": []
    },
    {
      "cell_type": "code",
      "metadata": {
        "colab": {
          "base_uri": "https://localhost:8080/"
        },
        "id": "yeo5WiiQQTbb",
        "outputId": "c24b7a45-e2b8-4b6d-c2d7-314c53ce78fe"
      },
      "source": [
        "model_2.evaluate(X_test, y_test)"
      ],
      "execution_count": null,
      "outputs": [
        {
          "output_type": "stream",
          "name": "stdout",
          "text": [
            "WARNING:tensorflow:5 out of the last 13 calls to <function Model.make_test_function.<locals>.test_function at 0x7f687f6d49e0> triggered tf.function retracing. Tracing is expensive and the excessive number of tracings could be due to (1) creating @tf.function repeatedly in a loop, (2) passing tensors with different shapes, (3) passing Python objects instead of tensors. For (1), please define your @tf.function outside of the loop. For (2), @tf.function has experimental_relax_shapes=True option that relaxes argument shapes that can avoid unnecessary retracing. For (3), please refer to https://www.tensorflow.org/guide/function#controlling_retracing and https://www.tensorflow.org/api_docs/python/tf/function for  more details.\n",
            "3/3 [==============================] - 0s 3ms/step - loss: 0.1208 - mae: 0.1208\n"
          ]
        },
        {
          "output_type": "execute_result",
          "data": {
            "text/plain": [
              "[0.1208428293466568, 0.1208428293466568]"
            ]
          },
          "metadata": {},
          "execution_count": 39
        }
      ]
    },
    {
      "cell_type": "code",
      "metadata": {
        "id": "yhl0DmhUQZHS"
      },
      "source": [
        "y_pred_2 = model_2.predict(X_test)\n",
        "y_pred_2 = np.squeeze(y_pred_2) "
      ],
      "execution_count": null,
      "outputs": []
    },
    {
      "cell_type": "code",
      "metadata": {
        "colab": {
          "base_uri": "https://localhost:8080/",
          "height": 497
        },
        "id": "YzwsgyyXQoF9",
        "outputId": "0b37e28f-63da-48c6-d856-591066634c42"
      },
      "source": [
        "# Lets Visualize the model and its predictions\n",
        "fig, ax = plt.subplots(figsize=(15,8))\n",
        "sns.scatterplot(x=X_train, y = y_train, ax = ax, label='Train set',)\n",
        "sns.scatterplot(x=X_test, y = y_test, ax = ax , label='Test set')\n",
        "sns.scatterplot(x=X_test, y = y_pred, ax = ax , label='Basic model')\n",
        "sns.scatterplot(x=X_test, y = y_pred_2, ax = ax , label='Model with 4 layers')\n",
        "ax.set_xlabel('X')\n",
        "ax.set_ylabel('y');"
      ],
      "execution_count": null,
      "outputs": [
        {
          "output_type": "display_data",
          "data": {
            "image/png": "[encoded data removed]",
            "text/plain": [
              "<Figure size 1080x576 with 1 Axes>"
            ]
          },
          "metadata": {
            "needs_background": "light"
          }
        }
      ]
    },
    {
      "cell_type": "markdown",
      "metadata": {
        "id": "kYCgBAhAQ6p2"
      },
      "source": [
        "# 🏠Boston Houses"
      ]
    },
    {
      "cell_type": "markdown",
      "metadata": {
        "id": "18HGlGUgSPFH"
      },
      "source": [
        "## 📞Import the dataset"
      ]
    },
    {
      "cell_type": "code",
      "metadata": {
        "id": "cnGMn6SBS5Ev",
        "colab": {
          "base_uri": "https://localhost:8080/"
        },
        "outputId": "f753da68-bd2a-41fd-a5dc-232061f4797d"
      },
      "source": [
        "# Importing the dataset\n",
        "(X_train, y_train), (X_test, y_test) = tf.keras.datasets.boston_housing.load_data( test_split=0.2, seed=42)"
      ],
      "execution_count": 2,
      "outputs": [
        {
          "output_type": "stream",
          "name": "stdout",
          "text": [
            "Downloading data from https://storage.googleapis.com/tensorflow/tf-keras-datasets/boston_housing.npz\n",
            "57344/57026 [==============================] - 0s 0us/step\n",
            "65536/57026 [==================================] - 0s 0us/step\n"
          ]
        }
      ]
    },
    {
      "cell_type": "markdown",
      "metadata": {
        "id": "3b3Fj2WrTVpK"
      },
      "source": [
        "## 🛀Preprocessing"
      ]
    },
    {
      "cell_type": "code",
      "metadata": {
        "id": "H35JBApgTuS0"
      },
      "source": [
        "# The only preprocessing required will be the scaler\n",
        "scaler = MinMaxScaler()\n",
        "X_train_escaled = scaler.fit_transform(X_train)\n",
        "X_test_escaled = scaler.transform(X_test)"
      ],
      "execution_count": 3,
      "outputs": []
    },
    {
      "cell_type": "markdown",
      "metadata": {
        "id": "nr2uB-l5T6ig"
      },
      "source": [
        "## 🦾Model Training\n",
        "Different models will be proposed:\n",
        "* `model_1` -  basic neural network.\n",
        "* `model_2` - Increase the epochs to 300\n",
        "* `model_3` - Add two dense layers with 100 and 10 neurons respectively\n",
        "* `model_4` - Change the optimizer to `SGD()`\n",
        "* `model_5` - Add a hidden layer and change the optimizer of `model_1`\n"
      ]
    },
    {
      "cell_type": "markdown",
      "metadata": {
        "id": "VzZN4O6tWfS0"
      },
      "source": [
        "### Model 1\n",
        "`model_1` -  basic neural network."
      ]
    },
    {
      "cell_type": "code",
      "metadata": {
        "colab": {
          "base_uri": "https://localhost:8080/"
        },
        "id": "h4FK4cgkUNo0",
        "outputId": "b9641c40-f2ac-4e7b-bf2c-20a1f31fcdad"
      },
      "source": [
        "#MODEL 1\n",
        "# set random seed \n",
        "tf.random.set_seed(42)\n",
        "\n",
        "#1. Create the model\n",
        "boston_model_1 = tf.keras.Sequential([\n",
        "    tf.keras.layers.Dense(10),\n",
        "    tf.keras.layers.Dense(1)\n",
        "])\n",
        "\n",
        "# 2. Compile the model\n",
        "boston_model_1.compile(loss=tf.keras.losses.mse,\n",
        "                          optimizer= tf.keras.optimizers.Adam(),\n",
        "                          metrics=['mse'])\n",
        "\n",
        "# 3. Fit the model\n",
        "boston_model_1.fit(X_train_escaled, y_train, epochs=100, verbose=0)\n",
        "\n",
        "# 4.Evaluate the model\n",
        "mse_boston_1 = boston_model_1.evaluate(X_test_escaled, y_test)[0]"
      ],
      "execution_count": 4,
      "outputs": [
        {
          "output_type": "stream",
          "name": "stdout",
          "text": [
            "4/4 [==============================] - 0s 3ms/step - loss: 47.7906 - mse: 47.7906\n"
          ]
        }
      ]
    },
    {
      "cell_type": "markdown",
      "metadata": {
        "id": "2cxWv3RcWpHv"
      },
      "source": [
        "### Model 2 \n",
        "`model_2` - Increase the epochs to 300"
      ]
    },
    {
      "cell_type": "code",
      "metadata": {
        "colab": {
          "base_uri": "https://localhost:8080/"
        },
        "id": "v2q2xGxpVUWU",
        "outputId": "e1d1795d-cf02-4a3c-e811-c1cb9e95b6bb"
      },
      "source": [
        "#MODEL 2\n",
        "# set random seed \n",
        "tf.random.set_seed(42)\n",
        "\n",
        "#1. Create the model\n",
        "boston_model_2 = tf.keras.Sequential([\n",
        "    tf.keras.layers.Dense(10),\n",
        "    tf.keras.layers.Dense(1)\n",
        "])\n",
        "\n",
        "# 2. Compile the model\n",
        "boston_model_2.compile(loss=tf.keras.losses.mse,\n",
        "                          optimizer= tf.keras.optimizers.Adam(),\n",
        "                          metrics=['mse'])\n",
        "\n",
        "# 3. Fit the model\n",
        "boston_model_2.fit(X_train_escaled, y_train, epochs=300, verbose=0)\n",
        "\n",
        "# 4.Evaluate the model\n",
        "mse_boston_2 = boston_model_2.evaluate(X_test_escaled, y_test)[0]"
      ],
      "execution_count": 5,
      "outputs": [
        {
          "output_type": "stream",
          "name": "stdout",
          "text": [
            "4/4 [==============================] - 0s 3ms/step - loss: 25.2375 - mse: 25.2375\n"
          ]
        }
      ]
    },
    {
      "cell_type": "markdown",
      "metadata": {
        "id": "W1yUYasd7lSr"
      },
      "source": [
        "### Model 3 \n",
        "`model_3` - Add two dense layers with 100 and 10 neurons respectively"
      ]
    },
    {
      "cell_type": "code",
      "metadata": {
        "colab": {
          "base_uri": "https://localhost:8080/"
        },
        "id": "7EfXlRO4ViiI",
        "outputId": "27cde246-24d0-4057-aef6-60bcdf0ef008"
      },
      "source": [
        "#MODEL 3\n",
        "# set random seed \n",
        "tf.random.set_seed(42)\n",
        "\n",
        "#1. Create the model\n",
        "boston_model_3 = tf.keras.Sequential([\n",
        "    tf.keras.layers.Dense(100),\n",
        "    tf.keras.layers.Dense(10),\n",
        "    tf.keras.layers.Dense(10),\n",
        "    tf.keras.layers.Dense(1)\n",
        "])\n",
        "\n",
        "# 2. Compile the model\n",
        "boston_model_3.compile(loss=tf.keras.losses.mse,\n",
        "                          optimizer= tf.keras.optimizers.Adam(),\n",
        "                          metrics=['mse'])\n",
        "\n",
        "# 3. Fit the model\n",
        "boston_model_3.fit(X_train_escaled, y_train, epochs=300, verbose=0)\n",
        "\n",
        "# 4.Evaluate the model\n",
        "mse_boston_3 = boston_model_3.evaluate(X_test_escaled, y_test)[0]"
      ],
      "execution_count": 6,
      "outputs": [
        {
          "output_type": "stream",
          "name": "stdout",
          "text": [
            "4/4 [==============================] - 0s 3ms/step - loss: 22.0644 - mse: 22.0644\n"
          ]
        }
      ]
    },
    {
      "cell_type": "markdown",
      "metadata": {
        "id": "NQF6005C7xfh"
      },
      "source": [
        "### Model 4 \n",
        "`model_4` - Change the optimizer to `SGD()`"
      ]
    },
    {
      "cell_type": "code",
      "metadata": {
        "colab": {
          "base_uri": "https://localhost:8080/"
        },
        "id": "Mx6XFnmIV-ne",
        "outputId": "3cf641fc-41c8-4e70-d748-d9f9f2af23c0"
      },
      "source": [
        "#MODEL 4\n",
        "# set random seed \n",
        "tf.random.set_seed(42)\n",
        "\n",
        "#1. Create the model\n",
        "boston_model_4 = tf.keras.Sequential([\n",
        "    tf.keras.layers.Dense(10),\n",
        "    tf.keras.layers.Dense(1)\n",
        "])\n",
        "\n",
        "# 2. Compile the model\n",
        "boston_model_4.compile(loss=tf.keras.losses.mse,\n",
        "                          optimizer= tf.keras.optimizers.SGD(),\n",
        "                          metrics=['mse'])\n",
        "\n",
        "# 3. Fit the model\n",
        "boston_model_4.fit(X_train_escaled, y_train, epochs=300, verbose=0)\n",
        "\n",
        "# 4.Evaluate the model\n",
        "mse_boston_4 = boston_model_4.evaluate(X_test_escaled, y_test)[0]"
      ],
      "execution_count": 8,
      "outputs": [
        {
          "output_type": "stream",
          "name": "stdout",
          "text": [
            "4/4 [==============================] - 0s 3ms/step - loss: 22.5030 - mse: 22.5030\n"
          ]
        }
      ]
    },
    {
      "cell_type": "markdown",
      "metadata": {
        "id": "DqncMM4RWQEs"
      },
      "source": [
        "### Model 5 \n",
        "`model_5` - Add a hidden layer and change the optimizer of `model_1`"
      ]
    },
    {
      "cell_type": "code",
      "metadata": {
        "colab": {
          "base_uri": "https://localhost:8080/"
        },
        "id": "eylZrHQB8RDS",
        "outputId": "9c2aef06-8dfa-41ad-831c-8ae7d07d2fd5"
      },
      "source": [
        "#MODEL 5\n",
        "# set random seed \n",
        "tf.random.set_seed(42)\n",
        "\n",
        "#1. Create the model\n",
        "boston_model_5 = tf.keras.Sequential([\n",
        "    tf.keras.layers.Dense(10),\n",
        "    tf.keras.layers.Dense(10),\n",
        "    tf.keras.layers.Dense(1)\n",
        "])\n",
        "\n",
        "# 2. Compile the model\n",
        "boston_model_5.compile(loss=tf.keras.losses.mse,\n",
        "                          optimizer= tf.keras.optimizers.Nadam(),\n",
        "                          metrics=['mse'])\n",
        "\n",
        "# 3. Fit the model\n",
        "boston_model_5.fit(X_train_escaled, y_train, epochs=100, verbose=0)\n",
        "\n",
        "# 4.Evaluate the model\n",
        "mse_boston_5 = boston_model_5.evaluate(X_test_escaled, y_test)[0]"
      ],
      "execution_count": 15,
      "outputs": [
        {
          "output_type": "stream",
          "name": "stdout",
          "text": [
            "4/4 [==============================] - 0s 4ms/step - loss: 28.8433 - mse: 28.8433\n"
          ]
        }
      ]
    },
    {
      "cell_type": "markdown",
      "metadata": {
        "id": "CKfkA_-N-G5x"
      },
      "source": [
        "## 🧐Model Evaluation"
      ]
    },
    {
      "cell_type": "code",
      "metadata": {
        "id": "UWqMGgWI-hbO"
      },
      "source": [
        "model_boston_results = [['model_1', mse_boston_1],\n",
        "                 ['model_2', mse_boston_2],\n",
        "                 ['model_3', mse_boston_3],\n",
        "                 ['model_4', mse_boston_4],\n",
        "                 ['model_5', mse_boston_5]]\n",
        "model_boston_results = pd.DataFrame(model_boston_results,columns=['model','MSE'])"
      ],
      "execution_count": 20,
      "outputs": []
    },
    {
      "cell_type": "code",
      "metadata": {
        "colab": {
          "base_uri": "https://localhost:8080/",
          "height": 204
        },
        "id": "BBKysxMT-yOW",
        "outputId": "d29d1c86-f5ae-47ce-f98d-5c34f9b8e6b7"
      },
      "source": [
        "model_boston_results"
      ],
      "execution_count": 21,
      "outputs": [
        {
          "output_type": "execute_result",
          "data": {
            "text/html": [
              "<div>\n",
              "<style scoped>\n",
              "    .dataframe tbody tr th:only-of-type {\n",
              "        vertical-align: middle;\n",
              "    }\n",
              "\n",
              "    .dataframe tbody tr th {\n",
              "        vertical-align: top;\n",
              "    }\n",
              "\n",
              "    .dataframe thead th {\n",
              "        text-align: right;\n",
              "    }\n",
              "</style>\n",
              "<table border=\"1\" class=\"dataframe\">\n",
              "  <thead>\n",
              "    <tr style=\"text-align: right;\">\n",
              "      <th></th>\n",
              "      <th>model</th>\n",
              "      <th>MSE</th>\n",
              "    </tr>\n",
              "  </thead>\n",
              "  <tbody>\n",
              "    <tr>\n",
              "      <th>0</th>\n",
              "      <td>model_1</td>\n",
              "      <td>47.790588</td>\n",
              "    </tr>\n",
              "    <tr>\n",
              "      <th>1</th>\n",
              "      <td>model_2</td>\n",
              "      <td>25.237530</td>\n",
              "    </tr>\n",
              "    <tr>\n",
              "      <th>2</th>\n",
              "      <td>model_3</td>\n",
              "      <td>22.064436</td>\n",
              "    </tr>\n",
              "    <tr>\n",
              "      <th>3</th>\n",
              "      <td>model_4</td>\n",
              "      <td>22.503025</td>\n",
              "    </tr>\n",
              "    <tr>\n",
              "      <th>4</th>\n",
              "      <td>model_5</td>\n",
              "      <td>28.843300</td>\n",
              "    </tr>\n",
              "  </tbody>\n",
              "</table>\n",
              "</div>"
            ],
            "text/plain": [
              "     model        MSE\n",
              "0  model_1  47.790588\n",
              "1  model_2  25.237530\n",
              "2  model_3  22.064436\n",
              "3  model_4  22.503025\n",
              "4  model_5  28.843300"
            ]
          },
          "metadata": {},
          "execution_count": 21
        }
      ]
    },
    {
      "cell_type": "code",
      "metadata": {
        "colab": {
          "base_uri": "https://localhost:8080/",
          "height": 463
        },
        "id": "dyke0vV4_AjV",
        "outputId": "445ab83f-83bf-4711-b461-20dd94d33b6f"
      },
      "source": [
        "model_boston_results = model_boston_results.sort_values('MSE')\n",
        "fig, ax = plt.subplots(figsize=(10,7))\n",
        "ax.bar(model_boston_results['model'], model_boston_results['MSE'])\n",
        "ax.set_xticklabels(model_boston_results['model'], rotation=90)\n",
        "ax.set_ylabel('MSE')\n",
        "plt.show()"
      ],
      "execution_count": 22,
      "outputs": [
        {
          "output_type": "display_data",
          "data": {
            "image/png": "[encoded data removed]",
            "text/plain": [
              "<Figure size 720x504 with 1 Axes>"
            ]
          },
          "metadata": {
            "needs_background": "light"
          }
        }
      ]
    },
    {
      "cell_type": "code",
      "metadata": {
        "id": "2CyPQpv1_V-Z"
      },
      "source": [
        ""
      ],
      "execution_count": null,
      "outputs": []
    }
  ]
}